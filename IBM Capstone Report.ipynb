{
 "cells": [
  {
   "cell_type": "markdown",
   "metadata": {},
   "source": [
    "# Introduction"
   ]
  },
  {
   "attachments": {},
   "cell_type": "markdown",
   "metadata": {},
   "source": [
    "Many individuals that are not familiar with travel outside of their home country (in my case the United States) may not know where to start when beginning to travel internationally. A good rule of thumb is to find and research a city that has a similar sociocultural landscape to one you have lived in or visited. As an avid domestic and international traveler, I have been able to experience two somewhat similar cities in Austin, Texas, USA, and Seoul, South Korea. They share a similar area at around 250 sq. miles, and are both known for their plethora of food options, nightlife, music venues, and other exciting tourist sites. As such, for my capstone project I will be performing a k-Means clustering analysis to determine the similarities and differences between Austin and Seoul."
   ]
  },
  {
   "cell_type": "markdown",
   "metadata": {},
   "source": [
    "# Data"
   ]
  },
  {
   "cell_type": "markdown",
   "metadata": {},
   "source": [
    "In order to perform my analysis, I will be using the following data:\n",
    "\n",
    "1. Foursquare API : https://foursquare.com/\n",
    "2. Districts of Seoul - https://en.wikipedia.org/wiki/List_of_districts_of_Seoul\n",
    "3. Austin Neighborhoods - https://en.wikipedia.org/wiki/List_of_Austin_neighborhoods\n",
    "\n",
    "The Foursquare API will provide information about the latitude and longitude of the districts/neighborhoods in both cities, as well as interesting spots to visit around each of their districts/neighborhoods. The information about the districts/neighborhoods themselves will help in naming each district/neighborhood and separating clusters of them by their similarity or dissimilarity to one another.\n"
   ]
  }
 ],
 "metadata": {
  "kernelspec": {
   "display_name": "Python 3",
   "language": "python",
   "name": "python3"
  },
  "language_info": {
   "codemirror_mode": {
    "name": "ipython",
    "version": 3
   },
   "file_extension": ".py",
   "mimetype": "text/x-python",
   "name": "python",
   "nbconvert_exporter": "python",
   "pygments_lexer": "ipython3",
   "version": "3.7.6"
  }
 },
 "nbformat": 4,
 "nbformat_minor": 4
}
